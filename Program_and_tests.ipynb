{
 "cells": [
  {
   "cell_type": "code",
   "execution_count": 1,
   "id": "9e188fa6-a27b-4523-ac92-9e528c4536d2",
   "metadata": {},
   "outputs": [],
   "source": [
    "def programm(list_of_words=None):\n",
    "    if list_of_words:\n",
    "        ln,cnt=list_of_words[0],len(list_of_words)-1\n",
    "        answers=[]\n",
    "        for b in range(1,cnt+1):\n",
    "            a=list_of_words[b]\n",
    "            left_len=0\n",
    "            right_len=0\n",
    "            for i in a:\n",
    "                if i!=' ':\n",
    "                    break\n",
    "                left_len+=1\n",
    "            for i in a[::-1]:\n",
    "                if i!=' ':\n",
    "                    break\n",
    "                right_len+=1\n",
    "            if (left_len-right_len)>0:\n",
    "                a+=' '*(left_len-right_len)\n",
    "            else:\n",
    "                a=' '*(right_len-left_len)+a\n",
    "            while len(a)<ln:\n",
    "                a=' '+a+' '\n",
    "            if a[0]==' ' and len(a)-ln==1:\n",
    "                a=a[1:]\n",
    "            if len(a)==ln:\n",
    "                answers.append(a)\n",
    "            else:\n",
    "                answers.append('Impossible.')\n",
    "        return answers\n",
    "    else:\n",
    "        ln,cnt=[int(x) for x in input().split()]\n",
    "        answers=[]\n",
    "        for b in range(cnt):\n",
    "            a=input()\n",
    "            left_len=0\n",
    "            right_len=0\n",
    "            for i in a:\n",
    "                if i!=' ':\n",
    "                    break\n",
    "                left_len+=1\n",
    "            for i in a[::-1]:\n",
    "                if i!=' ':\n",
    "                    break\n",
    "                right_len+=1\n",
    "            if (left_len-right_len)>0:\n",
    "                a+=' '*(left_len-right_len)\n",
    "            else:\n",
    "                a=' '*(right_len-left_len)+a\n",
    "            while len(a)<ln:\n",
    "                a=' '+a+' '\n",
    "            if a[0]==' ' and len(a)-ln==1:\n",
    "                a=a[1:]\n",
    "            if len(a)==ln:\n",
    "                answers.append(a)\n",
    "            else:\n",
    "                answers.append('Impossible.')\n",
    "        return answers\n",
    "        \n",
    "\n"
   ]
  },
  {
   "cell_type": "code",
   "execution_count": 29,
   "id": "2f0bb8b2-00a3-46d4-bfbd-dc90d01be0c0",
   "metadata": {},
   "outputs": [],
   "source": [
    "def modul_test(list_inpt,list_answers):\n",
    "    answers=[]\n",
    "    for cnt in range(len(list_inpt)):\n",
    "        pred=programm(list_inpt[cnt])\n",
    "        for i in range(len(pred)):\n",
    "            if pred[i]==list_answers[cnt][i]:\n",
    "                answers.append((1,list_answers[cnt][i],pred[i],cnt+1))\n",
    "            else: \n",
    "                answers.append((0,list_answers[cnt][i],pred[i],cnt+1))\n",
    "    result=[i[0] for i in answers]\n",
    "    #print(answers)\n",
    "    result=100*sum(result)/len(result)\n",
    "    print(f'Пройденно {result}% тестов')\n",
    "   \n",
    "    wrong_answers=[i for i in answers if i[0]==0]\n",
    "    for i in wrong_answers:\n",
    "        print(f'в тесте {i[3]} ожидалось: \"{i[1]}\", полученно: \"{i[2]}\"')\n",
    "    return answers\n",
    "        "
   ]
  },
  {
   "cell_type": "code",
   "execution_count": 30,
   "id": "e1fc79c7-f05f-4d5a-9d7e-1ad9c16cfcff",
   "metadata": {},
   "outputs": [],
   "source": [
    "inpt=[[20,'  привет  ',' Напиши мне.  ','    Пока =) '],[20,'привет','привеeeeeeeeeeeeeeeт','привeт']]\n",
    "answ=[['       привет       ','    Напиши мне.     ','       Пока =)       '],['       привет       ','Impossible.','       привет       ']]"
   ]
  },
  {
   "cell_type": "code",
   "execution_count": 31,
   "id": "81cd5c23-f18a-4e62-be58-bb034b7bff3f",
   "metadata": {},
   "outputs": [
    {
     "name": "stdout",
     "output_type": "stream",
     "text": [
      "Пройденно 50.0% тестов\n",
      "в тесте 1 ожидалось: \"       Пока =)       \", полученно: \"      Пока =)       \"\n",
      "в тесте 2 ожидалось: \"Impossible.\", полученно: \"привеeeeeeeeeeeeeeeт\"\n",
      "в тесте 2 ожидалось: \"       привет       \", полученно: \"       привeт       \"\n"
     ]
    }
   ],
   "source": [
    "results_of_testing=modul_test(inpt,answ)"
   ]
  },
  {
   "cell_type": "code",
   "execution_count": null,
   "id": "b8b69b32-81c5-4d27-9564-7e51ac560576",
   "metadata": {},
   "outputs": [],
   "source": []
  }
 ],
 "metadata": {
  "kernelspec": {
   "display_name": "Python 3 (ipykernel)",
   "language": "python",
   "name": "python3"
  },
  "language_info": {
   "codemirror_mode": {
    "name": "ipython",
    "version": 3
   },
   "file_extension": ".py",
   "mimetype": "text/x-python",
   "name": "python",
   "nbconvert_exporter": "python",
   "pygments_lexer": "ipython3",
   "version": "3.12.4"
  }
 },
 "nbformat": 4,
 "nbformat_minor": 5
}
