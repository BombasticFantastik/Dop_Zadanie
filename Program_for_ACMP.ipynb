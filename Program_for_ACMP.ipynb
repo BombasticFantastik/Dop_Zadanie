{
 "cells": [
  {
   "cell_type": "code",
   "execution_count": null,
   "id": "2a979c62-f091-4028-ab30-ba7eaac9a3f8",
   "metadata": {},
   "outputs": [],
   "source": [
    "ln,cnt=[int(x) for x in input().split()]\n",
    "        answers=[]\n",
    "        for b in range(cnt):\n",
    "            a=input()\n",
    "            left_len=0\n",
    "            right_len=0\n",
    "            for i in a:\n",
    "                if i!=' ':\n",
    "                    break\n",
    "                left_len+=1\n",
    "            for i in a[::-1]:\n",
    "                if i!=' ':\n",
    "                    break\n",
    "                right_len+=1\n",
    "            if (left_len-right_len)>0:\n",
    "                a+=' '*(left_len-right_len)\n",
    "            else:\n",
    "                a=' '*(right_len-left_len)+a\n",
    "            while len(a)<ln:\n",
    "                a=' '+a+' '\n",
    "            if a[0]==' ' and len(a)-ln==1:\n",
    "                a=a[1:]\n",
    "            if len(a)==ln:\n",
    "                answers.append(a)\n",
    "            else:\n",
    "                answers.append('Impossible.')\n",
    "        for i in answers:
                 print(i)"
   ]
  }
 ],
 "metadata": {
  "kernelspec": {
   "display_name": "Python 3 (ipykernel)",
   "language": "python",
   "name": "python3"
  },
  "language_info": {
   "codemirror_mode": {
    "name": "ipython",
    "version": 3
   },
   "file_extension": ".py",
   "mimetype": "text/x-python",
   "name": "python",
   "nbconvert_exporter": "python",
   "pygments_lexer": "ipython3",
   "version": "3.12.4"
  }
 },
 "nbformat": 4,
 "nbformat_minor": 5
}
